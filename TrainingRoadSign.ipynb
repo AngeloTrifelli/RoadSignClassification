{
 "cells": [
  {
   "cell_type": "code",
   "execution_count": 23,
   "metadata": {},
   "outputs": [],
   "source": [
    "import cv2\n",
    "import os \n",
    "\n",
    "import tensorflow as tf \n",
    "import tensorflow_datasets as tfds \n",
    "import PIL\n",
    "\n",
    "import matplotlib.pyplot as plt\n",
    "\n",
    "# Tutte le immagini saranno di grandezza 160x160\n",
    "IMG_SIZE  = 160\n",
    "\n",
    "def format_image(image , label):\n",
    "    image = tf.cast(image, tf.float32)\n",
    "    image = (image/127.5) - 1\n",
    "    image = tf.image.resize(image, (IMG_SIZE, IMG_SIZE))\n",
    "    return image, label"
   ]
  },
  {
   "cell_type": "code",
   "execution_count": 26,
   "metadata": {},
   "outputs": [
    {
     "name": "stdout",
     "output_type": "stream",
     "text": [
      "Immagini dataset training: 31367  \n",
      "Immagini dataset validazione: 7842 \n"
     ]
    }
   ],
   "source": [
    "builder = tfds.folder_dataset.ImageFolder('Dataset/')\n",
    "raw_dataset= builder.as_dataset(split='Train', as_supervised = True , shuffle_files=True)\n",
    "\n",
    "split_index = int(len(raw_dataset)*0.8)\n",
    "\n",
    "raw_train = raw_dataset.take(split_index)       #Restituisce un dataset costituito da i primi \"split_index\" elementi di raw_dataset\n",
    "raw_validation = raw_dataset.skip(split_index)  #Salta i primi \"split_index\" elementi di raw_dataset e restituisce un dataset costituito da gli elementi rimanenti\n",
    "\n",
    "imageNumberList = [0 for i in range(0,43)]\n",
    "\n",
    "print(\"Immagini dataset training: {}  \".format(len(raw_train)) )\n",
    "print(\"Immagini dataset validazione: {} \".format(len(raw_validation)))\n",
    "\n",
    "train = raw_train.map(format_image)\n",
    "validation = raw_validation.map(format_image)\n",
    "\n",
    "BATCH_SIZE = 32\n",
    "SHUFFLE_BUFFER_SIZE = 1000\n",
    "\n",
    "train_batches = train.shuffle(SHUFFLE_BUFFER_SIZE).batch(BATCH_SIZE)\n",
    "validation_batches = validation.batch(BATCH_SIZE)\n",
    "\n",
    "IMG_SHAPE = (IMG_SIZE, IMG_SIZE, 3)\n",
    "\n",
    "base_model = tf.keras.applications.mobilenet_v2.MobileNetV2(include_top=False , weights='imagenet' , input_shape=IMG_SHAPE)\n",
    "base_model.trainable = False\n",
    "\n",
    "global_average_layer = tf.keras.layers.GlobalAveragePooling2D()\n",
    "middle_layer = tf.keras.layers.Dense(units=120 , activation='relu' )\n",
    "prediction_layer = tf.keras.layers.Dense(units=43 , activation='softmax')\n",
    "\n",
    "model = tf.keras.Sequential([\n",
    "  base_model,\n",
    "  global_average_layer,\n",
    "  middle_layer,\n",
    "  prediction_layer\n",
    "])\n",
    "\n",
    "model.compile(optimizer=tf.keras.optimizers.Adam(), loss=tf.keras.losses.SparseCategoricalCrossentropy(), metrics=['accuracy'])"
   ]
  },
  {
   "cell_type": "code",
   "execution_count": 27,
   "metadata": {},
   "outputs": [],
   "source": [
    "initial_epochs = 3"
   ]
  },
  {
   "cell_type": "code",
   "execution_count": 28,
   "metadata": {},
   "outputs": [
    {
     "name": "stdout",
     "output_type": "stream",
     "text": [
      "Epoch 1/3\n",
      "981/981 [==============================] - 947s 960ms/step - loss: 0.6815 - accuracy: 0.7909 - val_loss: 0.2648 - val_accuracy: 0.9190\n",
      "Epoch 2/3\n",
      "981/981 [==============================] - 889s 905ms/step - loss: 0.2456 - accuracy: 0.9204 - val_loss: 0.1880 - val_accuracy: 0.9393\n",
      "Epoch 3/3\n",
      "981/981 [==============================] - 876s 893ms/step - loss: 0.1768 - accuracy: 0.9412 - val_loss: 0.1261 - val_accuracy: 0.9574\n",
      "[0.7909267544746399, 0.9203940629959106, 0.9411802291870117]\n"
     ]
    }
   ],
   "source": [
    "history = model.fit(train_batches, epochs=initial_epochs, validation_data=validation_batches)\n",
    "\n",
    "acc = history.history['accuracy']\n",
    "print(acc)"
   ]
  },
  {
   "cell_type": "code",
   "execution_count": 29,
   "metadata": {},
   "outputs": [],
   "source": [
    "model.save(\"RoadSignRecognition.h5\") "
   ]
  }
 ],
 "metadata": {
  "kernelspec": {
   "display_name": "Python 3.10.4 64-bit",
   "language": "python",
   "name": "python3"
  },
  "language_info": {
   "codemirror_mode": {
    "name": "ipython",
    "version": 3
   },
   "file_extension": ".py",
   "mimetype": "text/x-python",
   "name": "python",
   "nbconvert_exporter": "python",
   "pygments_lexer": "ipython3",
   "version": "3.10.4"
  },
  "orig_nbformat": 4,
  "vscode": {
   "interpreter": {
    "hash": "19d10ff9a1669585e31b221313aced2757fdd0c5af41b8ad1fbec8f6c727a24c"
   }
  }
 },
 "nbformat": 4,
 "nbformat_minor": 2
}
